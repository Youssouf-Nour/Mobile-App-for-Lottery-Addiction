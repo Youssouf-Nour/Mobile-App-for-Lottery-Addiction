{
 "cells": [
  {
   "cell_type": "markdown",
   "id": "4feee54a",
   "metadata": {},
   "source": [
    "# Mobile App for Lottery Addiction\n",
    "\n",
    "## 1) Introduction\n",
    "\n",
    "Many people start playing the lottery for fun, but for some this activity turns into a habit which eventually escalates into addiction. Like other compulsive gamblers, lottery addicts soon begin spending from their savings and loans, they start to accumulate debts, and eventually engage in desperate behaviors like theft.\n",
    "\n",
    "A medical institute that aims to prevent and treat gambling addictions wants to build a dedicated mobile app to help lottery addicts better estimate their chances of winning. The institute has a team of engineers that will build the app, but they need us to create the logical core of the app and calculate probabilities.\n",
    "\n",
    "For the first version of the app, they want us to focus on the [6/49 lottery](https://en.wikipedia.org/wiki/Lotto_6/49) and build functions that enable users to answer questions like:\n",
    "\n",
    "- What is the probability of winning the big prize with a single ticket?\n",
    "- What is the probability of winning the big prize if we play 40 different tickets (or any other number)?\n",
    "- What is the probability of having at least five (or four, or three, or two) winning numbers on a single ticket?\n",
    "\n",
    "The institute also wants us to consider historical data coming from the national 6/49 lottery game in Canada. The [data set](https://www.kaggle.com/datasets/datascienceai/lottery-dataset) has data for 3,665 drawings, dating from 1982 to 2018 (we'll come back to this).\n",
    "\n",
    "The scenario we're following throughout this project is fictional — the main purpose is to practice applying the concepts we learned in a setting that simulates a real-world scenario.\n",
    "\n",
    "\n",
    "## 2 ) Creating the functions\n",
    "\n",
    "We will start by creating some functions that will be important for the rest of the project:"
   ]
  },
  {
   "cell_type": "code",
   "execution_count": 1,
   "id": "07cc759e",
   "metadata": {},
   "outputs": [],
   "source": [
    "# Import needed packages\n",
    "import numpy as np\n",
    "import pandas as pd\n",
    "import matplotlib.pyplot as plt"
   ]
  },
  {
   "cell_type": "code",
   "execution_count": 2,
   "id": "6f20c844",
   "metadata": {},
   "outputs": [],
   "source": [
    "# Define a function to calculate the factorial of a number n\n",
    "def factorial(n):\n",
    "    result = 1\n",
    "    for x in range(n, 0, -1):\n",
    "        result *= x\n",
    "    return result\n",
    "\n",
    "# Define a function to calculate the number of combinations in groups of k from a population n, without replacement\n",
    "def combinations(n, k):\n",
    "    result = int(factorial(n) / (factorial(n-k) * factorial(k)))\n",
    "    return result"
   ]
  },
  {
   "cell_type": "markdown",
   "id": "d0f2fbdc",
   "metadata": {},
   "source": [
    "### 2.1) Probability of winning the big prize\n",
    "\n",
    "For the first version of the app, we want players to be able to calculate the probability of winning the big prize with the various numbers they play on a single ticket (for each ticket a player chooses six numbers out of 49). So, we'll start by building a function that calculates the probability of winning the big prize for any given ticket."
   ]
  },
  {
   "cell_type": "code",
   "execution_count": 3,
   "id": "7f21e0a8",
   "metadata": {},
   "outputs": [
    {
     "data": {
      "text/plain": [
       "'The probability of winning the big prize with these numbers is 0.000007% - one in 13983816'"
      ]
     },
     "execution_count": 3,
     "metadata": {},
     "output_type": "execute_result"
    }
   ],
   "source": [
    "# Define a function that takes a Python list with 6 numbers as input, and returns the probability of winning the big prize\n",
    "def one_ticket_probability(list):\n",
    "    probability = 1 / combinations(49, 6) * 100\n",
    "    return \"The probability of winning the big prize with these numbers is \" + \"{:.6f}\".format(probability) + \"% - one in \" + str(combinations(49, 6))\n",
    "\n",
    "# Test the function\n",
    "test_list = [1,2,3,4,5,6]\n",
    "one_ticket_probability(test_list)"
   ]
  },
  {
   "cell_type": "markdown",
   "id": "50d45aa6",
   "metadata": {},
   "source": [
    "### 2.2) Probability the ticket had already won\n",
    "\n",
    "Just above, we wrote a function that can tell users what is the probability of winning the big prize with a single ticket. For the first version of the app, however, users should also be able to compare their ticket against the historical lottery data in Canada and determine whether they would have ever won by now.\n",
    "\n",
    "We will proceed with reading the historical data and a first inspection:"
   ]
  },
  {
   "cell_type": "code",
   "execution_count": 4,
   "id": "5fab90c5",
   "metadata": {},
   "outputs": [
    {
     "data": {
      "text/plain": [
       "'Shape of the dataset:'"
      ]
     },
     "metadata": {},
     "output_type": "display_data"
    },
    {
     "data": {
      "text/plain": [
       "(3665, 11)"
      ]
     },
     "metadata": {},
     "output_type": "display_data"
    },
    {
     "data": {
      "text/plain": [
       "'Types of data:'"
      ]
     },
     "metadata": {},
     "output_type": "display_data"
    },
    {
     "data": {
      "text/plain": [
       "PRODUCT                     int64\n",
       "DRAW NUMBER                 int64\n",
       "SEQUENCE NUMBER             int64\n",
       "DRAW DATE          datetime64[ns]\n",
       "NUMBER DRAWN 1              int64\n",
       "NUMBER DRAWN 2              int64\n",
       "NUMBER DRAWN 3              int64\n",
       "NUMBER DRAWN 4              int64\n",
       "NUMBER DRAWN 5              int64\n",
       "NUMBER DRAWN 6              int64\n",
       "BONUS NUMBER                int64\n",
       "dtype: object"
      ]
     },
     "metadata": {},
     "output_type": "display_data"
    },
    {
     "data": {
      "text/plain": [
       "'Null values per column:'"
      ]
     },
     "metadata": {},
     "output_type": "display_data"
    },
    {
     "data": {
      "text/plain": [
       "PRODUCT            0\n",
       "DRAW NUMBER        0\n",
       "SEQUENCE NUMBER    0\n",
       "DRAW DATE          0\n",
       "NUMBER DRAWN 1     0\n",
       "NUMBER DRAWN 2     0\n",
       "NUMBER DRAWN 3     0\n",
       "NUMBER DRAWN 4     0\n",
       "NUMBER DRAWN 5     0\n",
       "NUMBER DRAWN 6     0\n",
       "BONUS NUMBER       0\n",
       "dtype: int64"
      ]
     },
     "metadata": {},
     "output_type": "display_data"
    },
    {
     "data": {
      "text/html": [
       "<div>\n",
       "<style scoped>\n",
       "    .dataframe tbody tr th:only-of-type {\n",
       "        vertical-align: middle;\n",
       "    }\n",
       "\n",
       "    .dataframe tbody tr th {\n",
       "        vertical-align: top;\n",
       "    }\n",
       "\n",
       "    .dataframe thead th {\n",
       "        text-align: right;\n",
       "    }\n",
       "</style>\n",
       "<table border=\"1\" class=\"dataframe\">\n",
       "  <thead>\n",
       "    <tr style=\"text-align: right;\">\n",
       "      <th></th>\n",
       "      <th>PRODUCT</th>\n",
       "      <th>DRAW NUMBER</th>\n",
       "      <th>SEQUENCE NUMBER</th>\n",
       "      <th>DRAW DATE</th>\n",
       "      <th>NUMBER DRAWN 1</th>\n",
       "      <th>NUMBER DRAWN 2</th>\n",
       "      <th>NUMBER DRAWN 3</th>\n",
       "      <th>NUMBER DRAWN 4</th>\n",
       "      <th>NUMBER DRAWN 5</th>\n",
       "      <th>NUMBER DRAWN 6</th>\n",
       "      <th>BONUS NUMBER</th>\n",
       "    </tr>\n",
       "  </thead>\n",
       "  <tbody>\n",
       "    <tr>\n",
       "      <th>0</th>\n",
       "      <td>649</td>\n",
       "      <td>1</td>\n",
       "      <td>0</td>\n",
       "      <td>1982-06-12</td>\n",
       "      <td>3</td>\n",
       "      <td>11</td>\n",
       "      <td>12</td>\n",
       "      <td>14</td>\n",
       "      <td>41</td>\n",
       "      <td>43</td>\n",
       "      <td>13</td>\n",
       "    </tr>\n",
       "    <tr>\n",
       "      <th>1</th>\n",
       "      <td>649</td>\n",
       "      <td>2</td>\n",
       "      <td>0</td>\n",
       "      <td>1982-06-19</td>\n",
       "      <td>8</td>\n",
       "      <td>33</td>\n",
       "      <td>36</td>\n",
       "      <td>37</td>\n",
       "      <td>39</td>\n",
       "      <td>41</td>\n",
       "      <td>9</td>\n",
       "    </tr>\n",
       "    <tr>\n",
       "      <th>2</th>\n",
       "      <td>649</td>\n",
       "      <td>3</td>\n",
       "      <td>0</td>\n",
       "      <td>1982-06-26</td>\n",
       "      <td>1</td>\n",
       "      <td>6</td>\n",
       "      <td>23</td>\n",
       "      <td>24</td>\n",
       "      <td>27</td>\n",
       "      <td>39</td>\n",
       "      <td>34</td>\n",
       "    </tr>\n",
       "  </tbody>\n",
       "</table>\n",
       "</div>"
      ],
      "text/plain": [
       "   PRODUCT  DRAW NUMBER  SEQUENCE NUMBER  DRAW DATE  NUMBER DRAWN 1  \\\n",
       "0      649            1                0 1982-06-12               3   \n",
       "1      649            2                0 1982-06-19               8   \n",
       "2      649            3                0 1982-06-26               1   \n",
       "\n",
       "   NUMBER DRAWN 2  NUMBER DRAWN 3  NUMBER DRAWN 4  NUMBER DRAWN 5  \\\n",
       "0              11              12              14              41   \n",
       "1              33              36              37              39   \n",
       "2               6              23              24              27   \n",
       "\n",
       "   NUMBER DRAWN 6  BONUS NUMBER  \n",
       "0              43            13  \n",
       "1              41             9  \n",
       "2              39            34  "
      ]
     },
     "metadata": {},
     "output_type": "display_data"
    },
    {
     "data": {
      "text/html": [
       "<div>\n",
       "<style scoped>\n",
       "    .dataframe tbody tr th:only-of-type {\n",
       "        vertical-align: middle;\n",
       "    }\n",
       "\n",
       "    .dataframe tbody tr th {\n",
       "        vertical-align: top;\n",
       "    }\n",
       "\n",
       "    .dataframe thead th {\n",
       "        text-align: right;\n",
       "    }\n",
       "</style>\n",
       "<table border=\"1\" class=\"dataframe\">\n",
       "  <thead>\n",
       "    <tr style=\"text-align: right;\">\n",
       "      <th></th>\n",
       "      <th>PRODUCT</th>\n",
       "      <th>DRAW NUMBER</th>\n",
       "      <th>SEQUENCE NUMBER</th>\n",
       "      <th>DRAW DATE</th>\n",
       "      <th>NUMBER DRAWN 1</th>\n",
       "      <th>NUMBER DRAWN 2</th>\n",
       "      <th>NUMBER DRAWN 3</th>\n",
       "      <th>NUMBER DRAWN 4</th>\n",
       "      <th>NUMBER DRAWN 5</th>\n",
       "      <th>NUMBER DRAWN 6</th>\n",
       "      <th>BONUS NUMBER</th>\n",
       "    </tr>\n",
       "  </thead>\n",
       "  <tbody>\n",
       "    <tr>\n",
       "      <th>3662</th>\n",
       "      <td>649</td>\n",
       "      <td>3589</td>\n",
       "      <td>0</td>\n",
       "      <td>2018-06-13</td>\n",
       "      <td>6</td>\n",
       "      <td>22</td>\n",
       "      <td>24</td>\n",
       "      <td>31</td>\n",
       "      <td>32</td>\n",
       "      <td>34</td>\n",
       "      <td>16</td>\n",
       "    </tr>\n",
       "    <tr>\n",
       "      <th>3663</th>\n",
       "      <td>649</td>\n",
       "      <td>3590</td>\n",
       "      <td>0</td>\n",
       "      <td>2018-06-16</td>\n",
       "      <td>2</td>\n",
       "      <td>15</td>\n",
       "      <td>21</td>\n",
       "      <td>31</td>\n",
       "      <td>38</td>\n",
       "      <td>49</td>\n",
       "      <td>8</td>\n",
       "    </tr>\n",
       "    <tr>\n",
       "      <th>3664</th>\n",
       "      <td>649</td>\n",
       "      <td>3591</td>\n",
       "      <td>0</td>\n",
       "      <td>2018-06-20</td>\n",
       "      <td>14</td>\n",
       "      <td>24</td>\n",
       "      <td>31</td>\n",
       "      <td>35</td>\n",
       "      <td>37</td>\n",
       "      <td>48</td>\n",
       "      <td>17</td>\n",
       "    </tr>\n",
       "  </tbody>\n",
       "</table>\n",
       "</div>"
      ],
      "text/plain": [
       "      PRODUCT  DRAW NUMBER  SEQUENCE NUMBER  DRAW DATE  NUMBER DRAWN 1  \\\n",
       "3662      649         3589                0 2018-06-13               6   \n",
       "3663      649         3590                0 2018-06-16               2   \n",
       "3664      649         3591                0 2018-06-20              14   \n",
       "\n",
       "      NUMBER DRAWN 2  NUMBER DRAWN 3  NUMBER DRAWN 4  NUMBER DRAWN 5  \\\n",
       "3662              22              24              31              32   \n",
       "3663              15              21              31              38   \n",
       "3664              24              31              35              37   \n",
       "\n",
       "      NUMBER DRAWN 6  BONUS NUMBER  \n",
       "3662              34            16  \n",
       "3663              49             8  \n",
       "3664              48            17  "
      ]
     },
     "metadata": {},
     "output_type": "display_data"
    }
   ],
   "source": [
    "six49 = pd.read_csv(\"649.csv\", parse_dates=[\"DRAW DATE\"])\n",
    "\n",
    "display(\"Shape of the dataset:\", six49.shape)\n",
    "display(\"Types of data:\", six49.dtypes)\n",
    "display(\"Null values per column:\", six49.isnull().sum())\n",
    "display(six49.head(3))\n",
    "display(six49.tail(3))"
   ]
  },
  {
   "cell_type": "markdown",
   "id": "6bc74247",
   "metadata": {},
   "source": [
    "Then, we will define two functions:\n",
    "\n",
    "1. A function that gets all the winning numbers from the historical data.\n",
    "2. A function that tells the user how many times a particular combination of numbers has already won the lottery, and the probability of winning the lottery again with those numbers."
   ]
  },
  {
   "cell_type": "code",
   "execution_count": 5,
   "id": "f20e03f6",
   "metadata": {},
   "outputs": [
    {
     "data": {
      "text/html": [
       "<div>\n",
       "<style scoped>\n",
       "    .dataframe tbody tr th:only-of-type {\n",
       "        vertical-align: middle;\n",
       "    }\n",
       "\n",
       "    .dataframe tbody tr th {\n",
       "        vertical-align: top;\n",
       "    }\n",
       "\n",
       "    .dataframe thead th {\n",
       "        text-align: right;\n",
       "    }\n",
       "</style>\n",
       "<table border=\"1\" class=\"dataframe\">\n",
       "  <thead>\n",
       "    <tr style=\"text-align: right;\">\n",
       "      <th></th>\n",
       "      <th>PRODUCT</th>\n",
       "      <th>DRAW NUMBER</th>\n",
       "      <th>SEQUENCE NUMBER</th>\n",
       "      <th>DRAW DATE</th>\n",
       "      <th>NUMBER DRAWN 1</th>\n",
       "      <th>NUMBER DRAWN 2</th>\n",
       "      <th>NUMBER DRAWN 3</th>\n",
       "      <th>NUMBER DRAWN 4</th>\n",
       "      <th>NUMBER DRAWN 5</th>\n",
       "      <th>NUMBER DRAWN 6</th>\n",
       "      <th>BONUS NUMBER</th>\n",
       "    </tr>\n",
       "  </thead>\n",
       "  <tbody>\n",
       "    <tr>\n",
       "      <th>0</th>\n",
       "      <td>649</td>\n",
       "      <td>1</td>\n",
       "      <td>0</td>\n",
       "      <td>1982-06-12</td>\n",
       "      <td>3</td>\n",
       "      <td>11</td>\n",
       "      <td>12</td>\n",
       "      <td>14</td>\n",
       "      <td>41</td>\n",
       "      <td>43</td>\n",
       "      <td>13</td>\n",
       "    </tr>\n",
       "    <tr>\n",
       "      <th>1</th>\n",
       "      <td>649</td>\n",
       "      <td>2</td>\n",
       "      <td>0</td>\n",
       "      <td>1982-06-19</td>\n",
       "      <td>8</td>\n",
       "      <td>33</td>\n",
       "      <td>36</td>\n",
       "      <td>37</td>\n",
       "      <td>39</td>\n",
       "      <td>41</td>\n",
       "      <td>9</td>\n",
       "    </tr>\n",
       "    <tr>\n",
       "      <th>2</th>\n",
       "      <td>649</td>\n",
       "      <td>3</td>\n",
       "      <td>0</td>\n",
       "      <td>1982-06-26</td>\n",
       "      <td>1</td>\n",
       "      <td>6</td>\n",
       "      <td>23</td>\n",
       "      <td>24</td>\n",
       "      <td>27</td>\n",
       "      <td>39</td>\n",
       "      <td>34</td>\n",
       "    </tr>\n",
       "    <tr>\n",
       "      <th>3</th>\n",
       "      <td>649</td>\n",
       "      <td>4</td>\n",
       "      <td>0</td>\n",
       "      <td>1982-07-03</td>\n",
       "      <td>3</td>\n",
       "      <td>9</td>\n",
       "      <td>10</td>\n",
       "      <td>13</td>\n",
       "      <td>20</td>\n",
       "      <td>43</td>\n",
       "      <td>34</td>\n",
       "    </tr>\n",
       "    <tr>\n",
       "      <th>4</th>\n",
       "      <td>649</td>\n",
       "      <td>5</td>\n",
       "      <td>0</td>\n",
       "      <td>1982-07-10</td>\n",
       "      <td>5</td>\n",
       "      <td>14</td>\n",
       "      <td>21</td>\n",
       "      <td>31</td>\n",
       "      <td>34</td>\n",
       "      <td>47</td>\n",
       "      <td>45</td>\n",
       "    </tr>\n",
       "  </tbody>\n",
       "</table>\n",
       "</div>"
      ],
      "text/plain": [
       "   PRODUCT  DRAW NUMBER  SEQUENCE NUMBER  DRAW DATE  NUMBER DRAWN 1  \\\n",
       "0      649            1                0 1982-06-12               3   \n",
       "1      649            2                0 1982-06-19               8   \n",
       "2      649            3                0 1982-06-26               1   \n",
       "3      649            4                0 1982-07-03               3   \n",
       "4      649            5                0 1982-07-10               5   \n",
       "\n",
       "   NUMBER DRAWN 2  NUMBER DRAWN 3  NUMBER DRAWN 4  NUMBER DRAWN 5  \\\n",
       "0              11              12              14              41   \n",
       "1              33              36              37              39   \n",
       "2               6              23              24              27   \n",
       "3               9              10              13              20   \n",
       "4              14              21              31              34   \n",
       "\n",
       "   NUMBER DRAWN 6  BONUS NUMBER  \n",
       "0              43            13  \n",
       "1              41             9  \n",
       "2              39            34  \n",
       "3              43            34  \n",
       "4              47            45  "
      ]
     },
     "metadata": {},
     "output_type": "display_data"
    },
    {
     "data": {
      "text/plain": [
       "'First elements of the winning_numbers list:'"
      ]
     },
     "metadata": {},
     "output_type": "display_data"
    },
    {
     "data": {
      "text/plain": [
       "[{3, 11, 12, 14, 41, 43},\n",
       " {8, 33, 36, 37, 39, 41},\n",
       " {1, 6, 23, 24, 27, 39},\n",
       " {3, 9, 10, 13, 20, 43},\n",
       " {5, 14, 21, 31, 34, 47}]"
      ]
     },
     "metadata": {},
     "output_type": "display_data"
    }
   ],
   "source": [
    "# Define a function that takes as input a row of the lottery dataframe and returns a set containing all the six winning numbers\n",
    "winning_numbers = []\n",
    "def extract_numbers(row):\n",
    "    numbers = set()\n",
    "    for x in range(4,10):\n",
    "        numbers.add(row[x])\n",
    "    winning_numbers.append(numbers)\n",
    "    return winning_numbers\n",
    "\n",
    "# Apply the function\n",
    "six49.apply(extract_numbers, axis=1)\n",
    "\n",
    "# Display results of the function\n",
    "display(six49.head())\n",
    "display(\"First elements of the winning_numbers list:\" ,winning_numbers[:5])"
   ]
  },
  {
   "cell_type": "code",
   "execution_count": 6,
   "id": "42f1c593",
   "metadata": {},
   "outputs": [
    {
     "name": "stdout",
     "output_type": "stream",
     "text": [
      "The combination {3, 41, 11, 12, 43, 14} has already won the lottery 1 times.\n",
      "    The probability of winning the big prize with these numbers is 0.000007% - one in 13983816\n",
      "The combination {1, 2, 3, 4, 5, 6} has already won the lottery 0 times.\n",
      "    The probability of winning the big prize with these numbers is 0.000007% - one in 13983816\n"
     ]
    }
   ],
   "source": [
    "# Define a function that returns the number of times the combination inputted by the user occurred in the past\n",
    "def check_historical_occurence(user_list, winning_list):\n",
    "    win_times = winning_list.count(set(user_list))\n",
    "    return \"The combination \" + str(user_list) + \" has already won the lottery \" + str(win_times) + \"\"\" times.\n",
    "    \"\"\" + one_ticket_probability(user_list)\n",
    "\n",
    "# Testing the function with a combination that occured and another that did not\n",
    "test_occured = set([3, 11, 12, 14, 41, 43])\n",
    "test_not_occurred = set([1, 2, 3, 4, 5, 6])\n",
    "\n",
    "print(check_historical_occurence(test_occured, winning_numbers))\n",
    "print(check_historical_occurence(test_not_occurred, winning_numbers))"
   ]
  },
  {
   "cell_type": "markdown",
   "id": "3687cd1a",
   "metadata": {},
   "source": [
    "### 2.3) Probability of winning with more than one ticket\n",
    "\n",
    "Lottery addicts usually play more than one ticket on a single drawing, thinking that this might increase their chances of winning significantly. Our purpose is to help them better estimate their chances of winning, so we are going to write a function that will allow the users to calculate the chances of winning for any number of different tickets."
   ]
  },
  {
   "cell_type": "code",
   "execution_count": 7,
   "id": "0b7b9495",
   "metadata": {},
   "outputs": [
    {
     "data": {
      "text/plain": [
       "'The probability of winning the big prize with 1 tickets is 0.000007% - 1 in 13983816'"
      ]
     },
     "metadata": {},
     "output_type": "display_data"
    },
    {
     "data": {
      "text/plain": [
       "'The probability of winning the big prize with 10 tickets is 0.000072% - 1 in 1398382'"
      ]
     },
     "metadata": {},
     "output_type": "display_data"
    },
    {
     "data": {
      "text/plain": [
       "'The probability of winning the big prize with 100 tickets is 0.000715% - 1 in 139838'"
      ]
     },
     "metadata": {},
     "output_type": "display_data"
    },
    {
     "data": {
      "text/plain": [
       "'The probability of winning the big prize with 10000 tickets is 0.071511% - 1 in 1398'"
      ]
     },
     "metadata": {},
     "output_type": "display_data"
    },
    {
     "data": {
      "text/plain": [
       "'The probability of winning the big prize with 1000000 tickets is 7.151124% - 1 in 14'"
      ]
     },
     "metadata": {},
     "output_type": "display_data"
    },
    {
     "data": {
      "text/plain": [
       "'The probability of winning the big prize with 6991908 tickets is 50.000000% - 1 in 2'"
      ]
     },
     "metadata": {},
     "output_type": "display_data"
    },
    {
     "data": {
      "text/plain": [
       "'The probability of winning the big prize with 13983816 tickets is 100.000000% - 1 in 1'"
      ]
     },
     "metadata": {},
     "output_type": "display_data"
    }
   ],
   "source": [
    "# Define a function that takes a number of tickets as input, and returns the probability of winning the big prize\n",
    "def multi_ticket_probability(number):\n",
    "    probability = number / combinations(49, 6) * 100\n",
    "    output_odds = round(combinations(49, 6) / number)\n",
    "    return \"The probability of winning the big prize with \" + str(number) + \" tickets is \" + \"{:.6f}\".format(probability) + \"% - 1 in \" + str(output_odds)\n",
    "\n",
    "# Test the function\n",
    "display(multi_ticket_probability(1))\n",
    "display(multi_ticket_probability(10))\n",
    "display(multi_ticket_probability(100))\n",
    "display(multi_ticket_probability(10000))\n",
    "display(multi_ticket_probability(1000000))\n",
    "display(multi_ticket_probability(6991908))\n",
    "display(multi_ticket_probability(13983816))"
   ]
  },
  {
   "cell_type": "markdown",
   "id": "e812b0c5",
   "metadata": {},
   "source": [
    "### 2.4) Probability of getting some winning numbers\n",
    "\n",
    "For extra context, in most 6/49 lotteries there are smaller prizes if a player's ticket match two, three, four, or five of the six numbers drawn. As a consequence, the users might be interested in knowing the probability of having two, three, four, or five winning numbers."
   ]
  },
  {
   "cell_type": "code",
   "execution_count": 8,
   "id": "90c965ad",
   "metadata": {},
   "outputs": [
    {
     "name": "stdout",
     "output_type": "stream",
     "text": [
      "The combination [1, 2, 3, 4, 5, 6] has a 13.238% probability of having 2 winning numbers - 1 in 8\n",
      "The combination [1, 2, 3, 4, 5, 6] has a 1.765% probability of having 3 winning numbers - 1 in 57\n",
      "The combination [1, 2, 3, 4, 5, 6] has a 0.097% probability of having 4 winning numbers - 1 in 1032\n",
      "The combination [1, 2, 3, 4, 5, 6] has a 0.002% probability of having 5 winning numbers - 1 in 54201\n"
     ]
    }
   ],
   "source": [
    "# Define a function that takes as input a list of numbers and the number of those to check for probability of being winning numbers\n",
    "def probability_less_6(user_list, number):\n",
    "    # Combinations with the numbers that the user chooses\n",
    "    user_combinations = combinations(6, number)\n",
    "    \n",
    "    # Combinations with the remaining numbers (excluding remaining user numbers)\n",
    "    other_numbers_combinations = combinations(49 - 6, 6 - number)\n",
    "    \n",
    "    # Total combinations that make the user get N winning numbers\n",
    "    winning_combinations = (user_combinations * other_numbers_combinations)\n",
    "    \n",
    "    # Total possible combinations\n",
    "    total_combinations = combinations(49, 6)\n",
    "    \n",
    "    # Percentage of getting N winning numbers\n",
    "    probability = winning_combinations / total_combinations * 100\n",
    "    \n",
    "    # Output in odds\n",
    "    output_odds = round(total_combinations / winning_combinations)\n",
    "    return \"The combination \" + str(user_list) + \" has a \" + \"{:.3f}\".format(probability) + \"% probability of having \" + str(number) + \" winning numbers - 1 in \" + str(output_odds)\n",
    "\n",
    "# Test the function\n",
    "test_list = [1, 2, 3, 4, 5, 6]\n",
    "print(probability_less_6(test_list, 2))\n",
    "print(probability_less_6(test_list, 3))\n",
    "print(probability_less_6(test_list, 4))\n",
    "print(probability_less_6(test_list, 5))"
   ]
  },
  {
   "cell_type": "markdown",
   "id": "50f15374",
   "metadata": {},
   "source": [
    "## 3) Conclusion\n",
    "\n",
    "We have created this project as a way to practice probabilities in Python. Several functions have been defined with regard to probabilities of winning lotteries:\n",
    "\n",
    "1. Probability of winning the big prize\n",
    "2. Probability the ticket had already won\n",
    "3. Probability of winning with more than one ticket\n",
    "4. Probability of getting some winning numbers\n",
    "\n",
    "The results that we got during the project shows, clearly, that <ins>lotteries are not worth our money</ins> - we can find better things to do with it."
   ]
  },
  {
   "cell_type": "code",
   "execution_count": null,
   "id": "36687d35",
   "metadata": {},
   "outputs": [],
   "source": []
  }
 ],
 "metadata": {
  "kernelspec": {
   "display_name": "Python 3 (ipykernel)",
   "language": "python",
   "name": "python3"
  },
  "language_info": {
   "codemirror_mode": {
    "name": "ipython",
    "version": 3
   },
   "file_extension": ".py",
   "mimetype": "text/x-python",
   "name": "python",
   "nbconvert_exporter": "python",
   "pygments_lexer": "ipython3",
   "version": "3.11.5"
  }
 },
 "nbformat": 4,
 "nbformat_minor": 5
}
